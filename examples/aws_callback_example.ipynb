{
 "cells": [
  {
   "cell_type": "markdown",
   "source": [
    "**Pre-signed url: overview**\n",
    "\n",
    "_\"Pre-signed URLs allow you to give your users access to a specific object\n",
    "in your bucket without requiring them to have AWS security credentials or permissions.\"_\n",
    "\n",
    "There are two types of pre-signed urls that can be generated:\n",
    "1. Pre-sign url (limited functionality)\n",
    "2. Post pre-sign url (extended functionality)\n",
    "\n",
    "For generating pre-signed and post pre-signed urls with Python,\n",
    "we will use Boto3 package. You can install it simply with pip by running:"
   ],
   "metadata": {
    "collapsed": false
   }
  },
  {
   "cell_type": "code",
   "execution_count": null,
   "outputs": [],
   "source": [
    "pip install boto3"
   ],
   "metadata": {
    "collapsed": false,
    "pycharm": {
     "name": "#%%\n"
    }
   }
  },
  {
   "cell_type": "markdown",
   "source": [
    "For further documentation on boto3, go to: https://boto3.amazonaws.com/v1/documentation/api/latest/reference/services/s3.html#S3.Client.generate_presigned_post\n",
    "\n",
    "**Generate pre-signed URL**\n",
    "\n",
    "In order to generate pre-signed URL, firstly import needed libraries:"
   ],
   "metadata": {
    "collapsed": false
   }
  },
  {
   "cell_type": "code",
   "execution_count": null,
   "outputs": [],
   "source": [
    "import boto3\n",
    "from botocore.client import Config\n",
    "from botocore.exceptions import ClientError\n",
    "import environ\n",
    "import os"
   ],
   "metadata": {
    "collapsed": false,
    "pycharm": {
     "name": "#%%\n"
    }
   }
  },
  {
   "cell_type": "markdown",
   "source": [
    "Let's implement function for creating pre-signed URL. Notice the usage of boto3 and it's client. This function return\n",
    " simple string with generated url."
   ],
   "metadata": {
    "collapsed": false
   }
  },
  {
   "cell_type": "code",
   "execution_count": null,
   "outputs": [],
   "source": [
    "def create_get_presigned_url(bucket_name, object_name):\n",
    "    \"\"\"Generate a presigned URL S3 POST request to upload a file\n",
    "\n",
    "    :param bucket_name: string\n",
    "    :param object_name: string\n",
    "    :return: Dictionary with the following keys:\n",
    "        url: URL to post to\n",
    "        fields: Dictionary of form fields and values to submit with the POST\n",
    "    :return: None if error.\n",
    "    \"\"\"\n",
    "    # Generate a pre-signed S3 POST URL\n",
    "    s3_client = boto3.client('s3', config=Config(signature_version='s3v4'), region_name=\"eu-central-1\")\n",
    "    try:\n",
    "        response = s3_client.generate_presigned_url('put_object',\n",
    "                                                    Params={'Bucket': bucket_name,\n",
    "                                                            'Key': object_name,\n",
    "                                                            'ContentType': \"application/json\",\n",
    "                                                            },\n",
    "                                                    ExpiresIn=3600)\n",
    "    except ClientError as e:\n",
    "        print(str(e))\n",
    "        return None\n",
    "\n",
    "    return response"
   ],
   "metadata": {
    "collapsed": false,
    "pycharm": {
     "name": "#%%\n"
    }
   }
  },
  {
   "cell_type": "markdown",
   "source": [
    "Now, after setting env variables, specifying filename and bucket, pre-signed url can be generated with the function\n",
    "implemented above."
   ],
   "metadata": {
    "collapsed": false
   }
  },
  {
   "cell_type": "code",
   "execution_count": null,
   "outputs": [],
   "source": [
    "env = environ.Env()\n",
    "os.environ[\"AWS_ACCESS_KEY_ID\"] = env(\"AWS_ACCESS_KEY_ID\")\n",
    "os.environ[\"AWS_SECRET_ACCESS_KEY\"] = env(\"AWS_SECRET_ACCESS_KEY\")\n",
    "filename = \"my_file.parquet\"\n",
    "bucket_name = env(\"BUCKET\")\n",
    "\n",
    "url = create_get_presigned_url(bucket_name, filename)"
   ],
   "metadata": {
    "collapsed": false,
    "pycharm": {
     "name": "#%%\n"
    }
   }
  },
  {
   "cell_type": "markdown",
   "source": [
    "Pre-signed URL that we generated, can be used now as callback_url.\n",
    "\n",
    "Look at the basic_ex.py for instruction of how to initialize client and get algorithms\n",
    "that client has permission to run.\n",
    "\n",
    "In order to run algorithm with pre-signed URL,\n",
    "simply add generated url value to **callback_url** arg.\n",
    "\n",
    "Example:"
   ],
   "metadata": {
    "collapsed": false
   }
  },
  {
   "cell_type": "code",
   "execution_count": null,
   "outputs": [],
   "source": [
    "results = algorithm.run(data, evaluate=False, encrypt=True, callback_url=generated_url)"
   ],
   "metadata": {
    "collapsed": false,
    "pycharm": {
     "name": "#%%\n"
    }
   }
  },
  {
   "cell_type": "markdown",
   "source": [
    "**Post pre-signed URL**\n",
    "\n",
    "For extended functionality, post pre-signed url can be generated.\n",
    "\n",
    "Just as before, after Boto3 installation, import required libraries:"
   ],
   "metadata": {
    "collapsed": false
   }
  },
  {
   "cell_type": "code",
   "execution_count": null,
   "outputs": [],
   "source": [
    "import boto3\n",
    "from botocore.client import Config\n",
    "from botocore.exceptions import ClientError\n",
    "import environ\n",
    "import os"
   ],
   "metadata": {
    "collapsed": false,
    "pycharm": {
     "name": "#%%\n"
    }
   }
  },
  {
   "cell_type": "markdown",
   "source": [
    "Now, let's implement a **function for generating post pre-signed url**. Notice, that this function, returns\n",
    "dictionary with not only generated url, but also *fields* dictionary.\n",
    "We will need it later when running an algorithm."
   ],
   "metadata": {
    "collapsed": false
   }
  },
  {
   "cell_type": "code",
   "execution_count": null,
   "outputs": [],
   "source": [
    "def create_presigned_post(bucket_name, object_name, fields=None, conditions=None, expiration=3600):\n",
    "    # Generate a presigned S3 POST URL\n",
    "    s3_client = boto3.client('s3', config=Config(signature_version='s3v4'), region_name=\"eu-central-1\")\n",
    "    try:\n",
    "        response = s3_client.generate_presigned_post(\n",
    "            Bucket=bucket_name,\n",
    "            Key=object_name,\n",
    "            Fields=fields,\n",
    "            Conditions=conditions,\n",
    "            ExpiresIn=expiration\n",
    "        )\n",
    "    except ClientError as e:\n",
    "        print(str(e))\n",
    "        return None\n",
    "\n",
    "    pre_signed_url = response['url']\n",
    "    fields = response['fields']\n",
    "\n",
    "    return pre_signed_url, fields"
   ],
   "metadata": {
    "collapsed": false,
    "pycharm": {
     "name": "#%%\n"
    }
   }
  },
  {
   "cell_type": "markdown",
   "source": [
    "Now, we can use our generated *pre_signed_url* and *fields* as callback_url and callback_param arguments when running\n",
    "algorithms. In case of post pre-signed url, value for callback_param is required.\n",
    "\n",
    "Take a look at the basic_ex.py for instruction on how to initialize client and get algorithms\n",
    "that client has permissions to run.\n",
    "\n",
    "Let's use *fields* to create callback_param dictionary. We have to assign *fields* to *s3_fields* key."
   ],
   "metadata": {
    "collapsed": false
   }
  },
  {
   "cell_type": "code",
   "execution_count": null,
   "outputs": [],
   "source": [
    "callback_param = {'s3_fields': fields}"
   ],
   "metadata": {
    "collapsed": false,
    "pycharm": {
     "name": "#%%\n"
    }
   }
  },
  {
   "cell_type": "markdown",
   "source": [
    "Now we can run algorithm with callback_url as our post pre-signed url and callback_param as dictionary created above."
   ],
   "metadata": {
    "collapsed": false
   }
  },
  {
   "cell_type": "code",
   "execution_count": null,
   "outputs": [],
   "source": [
    "results = algorithm.run(data, evaluate=False, encrypt=True, callback_url=generated_url, callback_param=callback_param)\n"
   ],
   "metadata": {
    "collapsed": false,
    "pycharm": {
     "name": "#%%\n"
    }
   }
  }
 ],
 "metadata": {
  "kernelspec": {
   "display_name": "Python 3",
   "language": "python",
   "name": "python3"
  },
  "language_info": {
   "codemirror_mode": {
    "name": "ipython",
    "version": 2
   },
   "file_extension": ".py",
   "mimetype": "text/x-python",
   "name": "python",
   "nbconvert_exporter": "python",
   "pygments_lexer": "ipython2",
   "version": "2.7.6"
  }
 },
 "nbformat": 4,
 "nbformat_minor": 0
}