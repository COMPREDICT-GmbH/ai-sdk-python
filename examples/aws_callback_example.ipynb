{
 "cells": [
  {
   "cell_type": "markdown",
   "source": [
    "**Pre-signed URL**\n",
    "\n",
    "_\"Pre-signed URLs allow you to give your users access to a specific object\n",
    "in your bucket without requiring them to have AWS security credentials or permissions.\"_\n",
    "\n",
    "There are two types of pre-signed urls that can be generated:\n",
    "1. GET pre-sign url (limited functionality)\n",
    "2. POST pre-sign url (extended functionality)\n",
    "\n",
    "In order to generate pre-signed URL, firstly import needed libraries:"
   ],
   "metadata": {
    "collapsed": false
   }
  },
  {
   "cell_type": "code",
   "execution_count": null,
   "outputs": [],
   "source": [
    "import boto3\n",
    "from botocore.client import Config\n",
    "from botocore.exceptions import ClientError\n",
    "import environ\n",
    "import os"
   ],
   "metadata": {
    "collapsed": false,
    "pycharm": {
     "name": "#%%\n"
    }
   }
  },
  {
   "cell_type": "markdown",
   "source": [
    "Function for pre-sign url with limited functionality:"
   ],
   "metadata": {
    "collapsed": false
   }
  },
  {
   "cell_type": "code",
   "execution_count": null,
   "outputs": [],
   "source": [
    "def create_get_presigned_url(bucket_name, object_name):\n",
    "    \"\"\"Generate a presigned URL S3 POST request to upload a file\n",
    "\n",
    "    :param bucket_name: string\n",
    "    :param object_name: string\n",
    "    :return: Dictionary with the following keys:\n",
    "        url: URL to post to\n",
    "        fields: Dictionary of form fields and values to submit with the POST\n",
    "    :return: None if error.\n",
    "    \"\"\"\n",
    "    # Generate a pre-signed S3 POST URL\n",
    "    s3_client = boto3.client('s3', config=Config(signature_version='s3v4'), region_name=\"eu-central-1\")\n",
    "    try:\n",
    "        response = s3_client.generate_presigned_url('put_object',\n",
    "                                                    Params={'Bucket': bucket_name,\n",
    "                                                            'Key': object_name,\n",
    "                                                            'ContentType': \"application/json\",\n",
    "                                                            },\n",
    "                                                    ExpiresIn=3600)\n",
    "    except ClientError as e:\n",
    "        print(str(e))\n",
    "        return None\n",
    "\n",
    "    # The response contains the pre-signed URL and required fields\n",
    "    return response"
   ],
   "metadata": {
    "collapsed": false,
    "pycharm": {
     "name": "#%%\n"
    }
   }
  },
  {
   "cell_type": "markdown",
   "source": [
    "Function for pre-sign url with extended functionality:"
   ],
   "metadata": {
    "collapsed": false
   }
  },
  {
   "cell_type": "code",
   "execution_count": null,
   "outputs": [],
   "source": [
    "def create_presigned_post(bucket_name, object_name, fields=None, conditions=None, expiration=3600):\n",
    "    # Generate a presigned S3 POST URL\n",
    "    s3_client = boto3.client('s3', config=Config(signature_version='s3v4'), region_name=\"eu-central-1\")\n",
    "    try:\n",
    "        response = s3_client.generate_presigned_post(\n",
    "            Bucket=bucket_name,\n",
    "            Key=object_name,\n",
    "            Fields=fields,\n",
    "            Conditions=conditions,\n",
    "            ExpiresIn=expiration\n",
    "        )\n",
    "    except ClientError as e:\n",
    "        print(str(e))\n",
    "        return None\n",
    "\n",
    "    pre_signed_url = response['url']\n",
    "    required_fields = response['fields']\n",
    "\n",
    "    return pre_signed_url, required_fields"
   ],
   "metadata": {
    "collapsed": false,
    "pycharm": {
     "name": "#%%\n"
    }
   }
  },
  {
   "cell_type": "markdown",
   "source": [
    "Set your env variables and specify file path. Then use generating function adjusted to your needs."
   ],
   "metadata": {
    "collapsed": false
   }
  },
  {
   "cell_type": "code",
   "execution_count": null,
   "outputs": [],
   "source": [
    "if __name__ == '__main__':\n",
    "    env = environ.Env()\n",
    "    os.environ[\"AWS_ACCESS_KEY_ID\"] = env(\"AWS_ACCESS_KEY_ID\")\n",
    "    os.environ[\"AWS_SECRET_ACCESS_KEY\"] = env(\"AWS_SECRET_ACCESS_KEY\")\n",
    "    filename = \"received/driving_session_id/trip_date/trip_id/rrrh-cs_1.parquet\"\n",
    "    bucket_name = env(\"BUCKET\")\n",
    "\n",
    "    # for extended functionality:\n",
    "    # to add meta data to your file set fields and conditions with x-amz-meta-key: value\n",
    "\n",
    "    fields = {\"ACL\": \"bucket-owner-full-control\", \"x-amz-meta-random-meta\": \"test-value\"}\n",
    "    conditions = [{\"ACL\": \"bucket-owner-full-control\"}, {\"x-amz-meta-random-meta\": \"test-value\"}]\n",
    "    url, required_fields = create_presigned_post(bucket_name, filename, fields=fields, conditions=conditions,\n",
    "                                            expiration=3600)\n",
    "\n",
    "    #for limited functionality uncomment:\n",
    "    # url = create_get_presigned_url(bucket_name, filename)\n",
    "\n",
    "    print(url)"
   ],
   "metadata": {
    "collapsed": false,
    "pycharm": {
     "name": "#%%\n"
    }
   }
  },
  {
   "cell_type": "markdown",
   "source": [
    "Generated pre-signed url (and required_fields - in case of post pre-signed url)\n",
    "can be used then as arguments when running algorithm.\n",
    "\n",
    "Look at the basic_ex.py for instruction of how to initialize client and get algorithms\n",
    "that client has permission to run.\n",
    "\n",
    "In order to run algorithm with limited functionality pre-signed URL,\n",
    "simply add generated url value to **callback_url** arg.\n",
    "\n",
    "Example:"
   ],
   "metadata": {
    "collapsed": false
   }
  },
  {
   "cell_type": "code",
   "execution_count": null,
   "outputs": [],
   "source": [
    "results = algorithm.run(data, evaluate=False, encrypt=True, callback_url=generated_url)"
   ],
   "metadata": {
    "collapsed": false,
    "pycharm": {
     "name": "#%%\n"
    }
   }
  },
  {
   "cell_type": "markdown",
   "source": [
    "In case of post pre-signed url with extended functionality, also\n",
    "**callback_param** argument needs to be included when running algorithm.\n",
    "\n",
    "Use required_fields from create_presigned_post() results in order to create\n",
    "callback_param and assign it to \"s3_fields\" key.\n",
    "Example:"
   ],
   "metadata": {
    "collapsed": false
   }
  },
  {
   "cell_type": "code",
   "execution_count": null,
   "outputs": [],
   "source": [
    "callback_param = {'s3_fields': required_fields}\n",
    "\n",
    "# Now add callback_param argument to run() method. Obviously, generated url needs to be set as value of\n",
    "# callback_url.\n",
    "results = algorithm.run(data, evaluate=False, encrypt=True, callback_url=generated_url, callback_param=callback_param)\n"
   ],
   "metadata": {
    "collapsed": false,
    "pycharm": {
     "name": "#%%\n"
    }
   }
  }
 ],
 "metadata": {
  "kernelspec": {
   "display_name": "Python 3",
   "language": "python",
   "name": "python3"
  },
  "language_info": {
   "codemirror_mode": {
    "name": "ipython",
    "version": 2
   },
   "file_extension": ".py",
   "mimetype": "text/x-python",
   "name": "python",
   "nbconvert_exporter": "python",
   "pygments_lexer": "ipython2",
   "version": "2.7.6"
  }
 },
 "nbformat": 4,
 "nbformat_minor": 0
}