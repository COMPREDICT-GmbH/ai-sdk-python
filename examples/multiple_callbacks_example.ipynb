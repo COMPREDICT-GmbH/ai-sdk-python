{
 "cells": [
  {
   "cell_type": "markdown",
   "metadata": {
    "collapsed": true,
    "pycharm": {
     "name": "#%% md\n"
    }
   },
   "source": [
    "## Multiple callbacks\n",
    "\n",
    "\n",
    "AI Core supports multiple callbacks. Meaning that, if a client wishes to have results of running algorithm sent to a\n",
    "couple of different web addresses, he can specify callback_url as a list of those addresses.\n",
    "\n",
    "> If user wishes for results to be sent to the cloud - this is allowed with pre-signed url generation. Please, look\n",
    "> at *aws_callback_example.ipynb* for further information.\n",
    "\n",
    "Let's see how we can run algorithms with specifying multiple callbacks.\n",
    "\n",
    "**1. Initialize the client**\n",
    "- import needed libraries and api class from compredict.client\n",
    "- read needed env variables\n",
    "- initialize client with token\n",
    "- add fail_on_error option(it's optional, by default it is set to True)"
   ]
  },
  {
   "cell_type": "code",
   "execution_count": null,
   "outputs": [],
   "source": [
    "from environ import Env\n",
    "import os\n",
    "\n",
    "from compredict.client import api\n",
    "\n",
    "env = Env()\n",
    "env.read_env()"
   ],
   "metadata": {
    "collapsed": false,
    "pycharm": {
     "name": "#%%\n"
    }
   }
  },
  {
   "cell_type": "code",
   "execution_count": null,
   "outputs": [],
   "source": [
    "token = env(\"COMPREDICT_AI_CORE_KEY\")\n",
    "fail_on_error = env(\"COMPREDICT_AI_CORE_FAIL_ON_ERROR\", False)\n",
    "\n",
    "client = api.get_instance(token=token)\n",
    "client.fail_on_error(option=fail_on_error)\n"
   ],
   "metadata": {
    "collapsed": false,
    "pycharm": {
     "name": "#%%\n"
    }
   }
  },
  {
   "cell_type": "markdown",
   "source": [
    "**2. Create multiple callbacks list**\n",
    "\n",
    "Simply create a list with urls as strings, for example:"
   ],
   "metadata": {
    "collapsed": false
   }
  },
  {
   "cell_type": "code",
   "execution_count": null,
   "outputs": [],
   "source": [
    "multiple_callbacks = [\"http://website/predictions/data.com\", \"https://me.myportal.cloudapp.azure.com\"]"
   ],
   "metadata": {
    "collapsed": false,
    "pycharm": {
     "name": "#%%\n"
    }
   }
  },
  {
   "cell_type": "markdown",
   "source": [
    "**3. Create callback params**\n",
    "\n",
    "You can add additional parameter to the callback, to be sent back with results.\n",
    "In case of multiple callbacks, you can specify:\n",
    " - one callback parameter dictionary that will be applied to all of the\n",
    "callback urls\n",
    " - different callback params for each callback url in a form of list of dictionaries (make sure that the list of\n",
    " dictionaries with params is equal to the list of callback urls)"
   ],
   "metadata": {
    "collapsed": false,
    "pycharm": {
     "name": "#%% md\n"
    }
   }
  },
  {
   "cell_type": "code",
   "execution_count": null,
   "outputs": [],
   "source": [
    "#example of callback_params structure\n",
    "callback_params = [{\"param1\": \"value\", \"param2\": \"value\"}, {\"param_1\": \"value\", \"param_2\": \"value\"}]"
   ],
   "metadata": {
    "collapsed": false,
    "pycharm": {
     "name": "#%%\n"
    }
   }
  },
  {
   "cell_type": "markdown",
   "source": [
    "**4. Run algorithm**\n",
    "\n",
    "- You can run algorithm directly on algorithm instance:"
   ],
   "metadata": {
    "collapsed": false
   }
  },
  {
   "cell_type": "code",
   "execution_count": null,
   "outputs": [],
   "source": [
    "# check for algorithms available to you:\n",
    "algorithms = client.get_algorithms()\n",
    "\n",
    "# choose one of the algorithms, for example:\n",
    "algorithm = algorithms[0]\n",
    "\n",
    "#specify data, that you want to use for prediction\n",
    "data = {\"data\": \"values\"}\n",
    "\n",
    "# run algorithm with multiple callbacks and additional callback parameters created above\n",
    "results = algorithm.run(data, evaluate=False, encrypt=True, callback_url=multiple_callbacks,\n",
    "                        callback_param=callback_params)"
   ],
   "metadata": {
    "collapsed": false,
    "pycharm": {
     "name": "#%%\n"
    }
   }
  },
  {
   "cell_type": "markdown",
   "source": [
    "- Or you can run algorithm directly on client instance with algorithm id\n"
   ],
   "metadata": {
    "collapsed": false,
    "pycharm": {
     "name": "#%% md\n"
    }
   }
  },
  {
   "cell_type": "code",
   "execution_count": null,
   "outputs": [],
   "source": [
    "#specify data, that you want to use for prediction\n",
    "data = {\"data\": \"values\"}\n",
    "\n",
    "#run algorithm with multiple callbacks and callback params set\n",
    "results = client.run_algorithm(algorithm_id='here_is_algorithm_id', data=data,\n",
    "                               evaluate=False, encrypt=True, callback_url=multiple_callbacks,\n",
    "                               callback_param=callback_params)"
   ],
   "metadata": {
    "collapsed": false,
    "pycharm": {
     "name": "#%%\n"
    }
   }
  }
 ],
 "metadata": {
  "kernelspec": {
   "display_name": "Python 3",
   "language": "python",
   "name": "python3"
  },
  "language_info": {
   "codemirror_mode": {
    "name": "ipython",
    "version": 2
   },
   "file_extension": ".py",
   "mimetype": "text/x-python",
   "name": "python",
   "nbconvert_exporter": "python",
   "pygments_lexer": "ipython2",
   "version": "2.7.6"
  }
 },
 "nbformat": 4,
 "nbformat_minor": 0
}