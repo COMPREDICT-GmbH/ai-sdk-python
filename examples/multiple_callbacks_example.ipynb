{
 "cells": [
  {
   "cell_type": "markdown",
   "metadata": {
    "collapsed": true,
    "pycharm": {
     "name": "#%% md\n"
    }
   },
   "source": [
    "## Multiple callbacks\n",
    "\n",
    "### Multiple callback urls\n",
    "\n",
    "AI Core supports multiple callbacks. Meaning that, if a client wishes to have results of running algorithm send to a\n",
    "couple of different web addresses, he can specify callback_url as a list of those addresses.\n",
    "\n",
    "> If user wishes for results to be sent to the cloud - this is allowed with pre-signed url generation. Please, look\n",
    "> at *aws_callback_example.ipynb* for further information.\n",
    "\n",
    "\n",
    "\n"
   ]
  },
  {
   "cell_type": "markdown",
   "source": [],
   "metadata": {
    "collapsed": false
   }
  }
 ],
 "metadata": {
  "kernelspec": {
   "display_name": "Python 3",
   "language": "python",
   "name": "python3"
  },
  "language_info": {
   "codemirror_mode": {
    "name": "ipython",
    "version": 2
   },
   "file_extension": ".py",
   "mimetype": "text/x-python",
   "name": "python",
   "nbconvert_exporter": "python",
   "pygments_lexer": "ipython2",
   "version": "2.7.6"
  }
 },
 "nbformat": 4,
 "nbformat_minor": 0
}